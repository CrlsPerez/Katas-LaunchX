{
 "cells": [
  {
   "cell_type": "markdown",
   "metadata": {},
   "source": [
    "# Condicionales - Asteroides"
   ]
  },
  {
   "cell_type": "code",
   "execution_count": 2,
   "metadata": {},
   "outputs": [
    {
     "name": "stdout",
     "output_type": "stream",
     "text": [
      "Un asteroide se acerca demaciado rapido!\n"
     ]
    }
   ],
   "source": [
    "velocidadAsteroide = 49\n",
    "\n",
    "if(velocidadAsteroide > 25):\n",
    "    print(\"Un asteroide se acerca demaciado rapido!\")"
   ]
  },
  {
   "cell_type": "code",
   "execution_count": 3,
   "metadata": {},
   "outputs": [
    {
     "name": "stdout",
     "output_type": "stream",
     "text": [
      "No hay nada que ver\n"
     ]
    }
   ],
   "source": [
    "velocidadAsteroide = 19\n",
    "\n",
    "if(velocidadAsteroide >= 20):\n",
    "    print(\"Hay una luz en el cielo!\")\n",
    "else:\n",
    "    print(\"No hay nada que ver\")"
   ]
  },
  {
   "cell_type": "code",
   "execution_count": 7,
   "metadata": {},
   "outputs": [
    {
     "name": "stdout",
     "output_type": "stream",
     "text": [
      "Hay una luz en el cielo!\n"
     ]
    }
   ],
   "source": [
    "velocidadAsteroide = 20\n",
    "tamañoAsteroide = 50\n",
    "\n",
    "if(velocidadAsteroide > 25 and tamañoAsteroide > 25):\n",
    "    print(\"Peligro!\")\n",
    "    print(\"Un asteroide se acerca demaciado rapido!\")\n",
    "    print(\"Hay una luz en el cielo!\")\n",
    "elif(velocidadAsteroide > 25):\n",
    "    print(\"Un asteroide se acerca demaciado rapido!\")\n",
    "    print(\"Hay una luz en el cielo!\")\n",
    "elif(velocidadAsteroide >= 20):\n",
    "    print(\"Hay una luz en el cielo!\")\n",
    "else:\n",
    "    print(\"Es un dia tranquilo\")"
   ]
  }
 ],
 "metadata": {
  "interpreter": {
   "hash": "aaed67ede66893e533694523acc9d393795e7ecad5b71a3ed5da43d706cc1ecb"
  },
  "kernelspec": {
   "display_name": "Python 3.9.7 ('env': venv)",
   "language": "python",
   "name": "python3"
  },
  "language_info": {
   "codemirror_mode": {
    "name": "ipython",
    "version": 3
   },
   "file_extension": ".py",
   "mimetype": "text/x-python",
   "name": "python",
   "nbconvert_exporter": "python",
   "pygments_lexer": "ipython3",
   "version": "3.9.7"
  },
  "orig_nbformat": 4
 },
 "nbformat": 4,
 "nbformat_minor": 2
}
