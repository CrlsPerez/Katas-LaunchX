{
 "cells": [
  {
   "cell_type": "markdown",
   "metadata": {},
   "source": [
    "# Listas"
   ]
  },
  {
   "cell_type": "code",
   "execution_count": null,
   "metadata": {},
   "outputs": [],
   "source": [
    "planetas = ['Mercurio', 'Venus', 'tierra', 'Marte', 'Jupiter', 'Saturo', 'Uranio', 'Nepturno']\n",
    "print('Existen', len(planetas), 'planetas')\n",
    "\n",
    "planetas.append('Pluton')\n",
    "\n",
    "print(planetas[-1], 'es el ultimo planeta del sistema solar.')"
   ]
  },
  {
   "cell_type": "code",
   "execution_count": null,
   "metadata": {},
   "outputs": [],
   "source": [
    "planetas = ['Mercurio', 'Venus', 'Tierra', 'Marte', 'Jupiter', 'Saturno', 'Uranio', 'Nepturno']\n",
    "planeta_agregado = input('Introduzca el planeta a buscar')\n",
    "\n",
    "p_index=planetas.index(planeta_agregado)\n",
    "\n",
    "print('Planetas mas cerca de ' + planeta_agregado)\n",
    "print(planetas[0:p_index])\n",
    "\n",
    "\n",
    "print('Planetas mas alejados de ' + planeta_agregado)\n",
    "print(planetas[p_index + 1:])\n"
   ]
  }
 ],
 "metadata": {
  "interpreter": {
   "hash": "aaed67ede66893e533694523acc9d393795e7ecad5b71a3ed5da43d706cc1ecb"
  },
  "kernelspec": {
   "display_name": "Python 3.9.7 ('env': venv)",
   "language": "python",
   "name": "python3"
  },
  "language_info": {
   "codemirror_mode": {
    "name": "ipython",
    "version": 3
   },
   "file_extension": ".py",
   "mimetype": "text/x-python",
   "name": "python",
   "nbconvert_exporter": "python",
   "pygments_lexer": "ipython3",
   "version": "3.9.7"
  },
  "orig_nbformat": 4
 },
 "nbformat": 4,
 "nbformat_minor": 2
}
