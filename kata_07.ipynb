{
 "cells": [
  {
   "cell_type": "markdown",
   "metadata": {},
   "source": [
    "# Estructuras de Control"
   ]
  },
  {
   "cell_type": "code",
   "execution_count": null,
   "metadata": {},
   "outputs": [],
   "source": [
    "user_planetas = ''\n",
    "\n",
    "planetas = []\n",
    "\n",
    "while user_planetas.lower() != 'done':\n",
    "    if user_planetas:\n",
    "        planetas.append(user_planetas)\n",
    "    user_planetas = input('Enter a new value, or done when done')"
   ]
  },
  {
   "cell_type": "code",
   "execution_count": null,
   "metadata": {},
   "outputs": [],
   "source": [
    "user_planetas = ''\n",
    "\n",
    "planetas = []\n",
    "\n",
    "while user_planetas.lower() != 'done':\n",
    "    if user_planetas:\n",
    "        planetas.append(user_planetas)\n",
    "    user_planetas = input('Enter a new value, or done when done')\n",
    "    \n",
    "for planeta in planetas:\n",
    "    print(planeta)"
   ]
  }
 ],
 "metadata": {
  "interpreter": {
   "hash": "aaed67ede66893e533694523acc9d393795e7ecad5b71a3ed5da43d706cc1ecb"
  },
  "kernelspec": {
   "display_name": "Python 3.9.7 ('env': venv)",
   "language": "python",
   "name": "python3"
  },
  "language_info": {
   "codemirror_mode": {
    "name": "ipython",
    "version": 3
   },
   "file_extension": ".py",
   "mimetype": "text/x-python",
   "name": "python",
   "nbconvert_exporter": "python",
   "pygments_lexer": "ipython3",
   "version": "3.9.7"
  },
  "orig_nbformat": 4
 },
 "nbformat": 4,
 "nbformat_minor": 2
}
