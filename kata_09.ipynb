{
 "cells": [
  {
   "cell_type": "markdown",
   "metadata": {},
   "source": [
    "# Funciones"
   ]
  },
  {
   "cell_type": "code",
   "execution_count": null,
   "metadata": {},
   "outputs": [],
   "source": [
    "def reporte_cohete(tanque1,tanque2,tanque3):\n",
    "    \n",
    "    total_prom=(tanque1+tanque2+tanque3)/3\n",
    "\n",
    "    return f\"\"\"\n",
    "    Reporte combustibles:\n",
    "    Total Promedio: {total_prom}%\n",
    "    Tanque1: {tanque1}%\n",
    "    Tanque2: {tanque2}%\n",
    "    Tanque3: {tanque3}% \n",
    "    \"\"\"\n",
    "\n",
    "print(reporte_cohete(40,53,65))\n",
    "\n",
    "def prom(values):\n",
    "    \n",
    "    total = sum(values)\n",
    "    numero_tanques = len(values)\n",
    "    return total / numero_tanques\n",
    "\n",
    "prom([46,52,48])\n",
    "\n",
    "def reporte_cohete(tanque1,tanque2,tanque3):\n",
    "    \n",
    "    return f\"\"\"\n",
    "    Reporte combustibles:\n",
    "    Total Promedio: {prom([tanque1,tanque2,tanque3])}%\n",
    "    Tanque1: {tanque1}%\n",
    "    Tanque2: {tanque2}%\n",
    "    Tanque3: {tanque3}% \n",
    "    \"\"\"\n",
    "\n",
    "print(reporte_cohete(56, 35, 23))"
   ]
  },
  {
   "cell_type": "code",
   "execution_count": null,
   "metadata": {},
   "outputs": [],
   "source": [
    "def reporte_cohete_2(hora_prelanzamiento, tiempo_recorrido, tanque_interno, tanque_externo, nombredestino):\n",
    "    \n",
    "    return f\"\"\"\n",
    "    Viaje:\n",
    "    Viaje espacio: {nombredestino}\n",
    "    Tiempo total del  viaje  {hora_prelanzamiento+tiempo_recorrido} minutos\n",
    "    Total de {tanque_interno+tanque_externo} combustible \n",
    "    \"\"\"\n",
    "    \n",
    "print(reporte_cohete_2(2, 54, 1200, 1750, \"Luna\"))\n",
    "\n",
    "def reporte_c(destino, *minutes, **fuel_reservoirs):\n",
    "    return f\"\"\"\n",
    "    Viaje espacio {destino}\n",
    "    Tiempo total del  viaje : {sum(minutes)} minutos\n",
    "    Total de combustible : {sum(fuel_reservoirs.values())}\n",
    "    \"\"\"\n",
    "\n",
    "print(reporte_c(\"Luna\", 32, 11, 55, t_in=1200,t_ex=1750))\n",
    "\n",
    "def mission_report(destination, *minutes, **fuel_reservoirs):\n",
    "    \n",
    "    main_report = f\"\"\"\n",
    "    Mision a {destination}\n",
    "    Tiempo total de viaje: {sum(minutes)} minutes\n",
    "    Total de combustible: {sum(fuel_reservoirs.values())}\n",
    "    \"\"\"\n",
    "    \n",
    "    for tank_name, gallons in fuel_reservoirs.items():\n",
    "        main_report += f\"\"\"Galon {tank_name} --> {gallons} sobrante | \"\"\"\n",
    "    \n",
    "    return main_report\n",
    "\n",
    "print(mission_report(\"Luna\", 32, 11, 55, principal=1200, externo=1750))"
   ]
  },
  {
   "cell_type": "code",
   "execution_count": null,
   "metadata": {},
   "outputs": [],
   "source": []
  }
 ],
 "metadata": {
  "interpreter": {
   "hash": "aaed67ede66893e533694523acc9d393795e7ecad5b71a3ed5da43d706cc1ecb"
  },
  "kernelspec": {
   "display_name": "Python 3.9.7 ('env': venv)",
   "language": "python",
   "name": "python3"
  },
  "language_info": {
   "codemirror_mode": {
    "name": "ipython",
    "version": 3
   },
   "file_extension": ".py",
   "mimetype": "text/x-python",
   "name": "python",
   "nbconvert_exporter": "python",
   "pygments_lexer": "ipython3",
   "version": "3.9.7"
  },
  "orig_nbformat": 4
 },
 "nbformat": 4,
 "nbformat_minor": 2
}
