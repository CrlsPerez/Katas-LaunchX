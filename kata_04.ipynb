{
 "cells": [
  {
   "cell_type": "markdown",
   "metadata": {},
   "source": [
    "# Texto - Cadenas"
   ]
  },
  {
   "cell_type": "code",
   "execution_count": null,
   "metadata": {},
   "outputs": [],
   "source": [
    "text=\"\"\"Interesting facts about the Moon. The Moon is Earth's only satellite. There are several interesting facts about the Moon and how it affects life here on Earth. \n",
    "On average, the Moon moves 4cm away from the Earth every year. This yearly drift is not significant enough to cause immediate effects on Earth. The high day\"\"\"\n",
    "\n",
    "parrafos = text.split('. ')\n",
    " \n",
    "palabras = [\"average\", \"temperature\", \"distance\"]\n",
    "\n",
    "for parrafo in parrafos:\n",
    "   for palabra in palabras:\n",
    "        if palabra in parrafo:\n",
    "            print(parrafo)\n",
    "            break\n",
    "        \n",
    "for parrafo in parrafos:\n",
    "    for palabra in palabras:\n",
    "        if palabra in parrafo:\n",
    "            print(parrafo.replace(' C', ' Celsius'))\n",
    "            break  "
   ]
  },
  {
   "cell_type": "code",
   "execution_count": null,
   "metadata": {},
   "outputs": [],
   "source": [
    "\n",
    "name = \"Moon\"\n",
    "gravity = 0.00162 # in kms\n",
    "planet = \"Earth\"\n",
    "\n",
    "title = 'Gravedad'\n",
    "\n",
    "\n",
    "plantilla = \"\"\"{}\n",
    "-------------------------------------------------------------------------------\n",
    "Planet Name: {}\n",
    "Gravity on {}: {} m/s2 \"\"\"\n",
    "\n",
    "remplazo = plantilla.format(title, planet, name, gravity)\n",
    "\n",
    "print(remplazo)\n",
    "\n",
    "\n",
    "print(\"\"\" \n",
    "Nuevos Datos:\n",
    "\"\"\")\n",
    "\n",
    "planeta = 'Marte '\n",
    "gravedad  = 0.00143\n",
    "nombre = 'Ganímedes'\n",
    "\n",
    "remplazo_2 = plantilla.format(title, planeta, nombre, gravedad)\n",
    "\n",
    "print(remplazo_2)\n"
   ]
  },
  {
   "cell_type": "code",
   "execution_count": null,
   "metadata": {},
   "outputs": [],
   "source": []
  }
 ],
 "metadata": {
  "interpreter": {
   "hash": "aaed67ede66893e533694523acc9d393795e7ecad5b71a3ed5da43d706cc1ecb"
  },
  "kernelspec": {
   "display_name": "Python 3.9.7 ('env': venv)",
   "language": "python",
   "name": "python3"
  },
  "language_info": {
   "codemirror_mode": {
    "name": "ipython",
    "version": 3
   },
   "file_extension": ".py",
   "mimetype": "text/x-python",
   "name": "python",
   "nbconvert_exporter": "python",
   "pygments_lexer": "ipython3",
   "version": "3.9.7"
  },
  "orig_nbformat": 4
 },
 "nbformat": 4,
 "nbformat_minor": 2
}
