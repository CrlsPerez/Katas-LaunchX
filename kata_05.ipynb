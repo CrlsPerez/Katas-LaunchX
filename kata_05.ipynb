{
 "cells": [
  {
   "cell_type": "markdown",
   "metadata": {},
   "source": [
    "# Matematicas"
   ]
  },
  {
   "cell_type": "code",
   "execution_count": null,
   "metadata": {},
   "outputs": [],
   "source": [
    "tierra = 149597870\n",
    "jupiter = 778547200 \n",
    "\n",
    "distancia = jupiter-tierra\n",
    "print(distancia)\n",
    "\n",
    "distanciamilla = (distancia*.0621)\n",
    "print(distanciamilla)"
   ]
  },
  {
   "cell_type": "code",
   "execution_count": null,
   "metadata": {},
   "outputs": [],
   "source": [
    "primerPlaneta = input(\"Introduce el valor distacia del primer planeta al sol\")\n",
    "segundoPlaneta = input(\"Introduce el valor distacia del segundo planeta al sol\")\n",
    "\n",
    "primerPlaneta = int(primerPlaneta)\n",
    "segundoPlaneta = int(segundoPlaneta)\n",
    "\n",
    "distancia_planeta = segundoPlaneta - primerPlaneta\n",
    "print(\"Distancia: {}\".format(distancia_planeta))\n",
    "\n",
    "distancia_milla = distancia_planeta * .621\n",
    "print(\"Distancia Millas: {}\".format(abs(distancia_milla)))"
   ]
  }
 ],
 "metadata": {
  "interpreter": {
   "hash": "aaed67ede66893e533694523acc9d393795e7ecad5b71a3ed5da43d706cc1ecb"
  },
  "kernelspec": {
   "display_name": "Python 3.9.7 ('env': venv)",
   "language": "python",
   "name": "python3"
  },
  "language_info": {
   "codemirror_mode": {
    "name": "ipython",
    "version": 3
   },
   "file_extension": ".py",
   "mimetype": "text/x-python",
   "name": "python",
   "nbconvert_exporter": "python",
   "pygments_lexer": "ipython3",
   "version": "3.9.7"
  },
  "orig_nbformat": 4
 },
 "nbformat": 4,
 "nbformat_minor": 2
}
